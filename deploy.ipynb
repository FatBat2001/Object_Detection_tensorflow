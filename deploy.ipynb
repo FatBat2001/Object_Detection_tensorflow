{
 "cells": [
  {
   "cell_type": "code",
   "execution_count": null,
   "metadata": {},
   "outputs": [],
   "source": [
    "import tkinter as tk\n",
    "from tkinter import*\n",
    "from tensorflow.keras.models import load_model\n",
    "from tkinter import filedialog as fd \n",
    "import tensorflow as tf\n",
    "from matplotlib import pyplot as plt\n",
    "import numpy as np \n",
    "import cv2\n",
    "from matplotlib.backends.backend_tkagg import FigureCanvasTkAgg\n",
    "\n",
    "classifier= load_model('ob_detection.h5')\n",
    "objects = ['none', 'cup', 'keyboard', 'pen', 'notebook', 'phone']\n",
    "\n",
    " \n",
    "def load_image(x): \n",
    "    byte_img = tf.io.read_file(x)\n",
    "    img = tf.io.decode_jpeg(byte_img)\n",
    "    return img\n",
    "\n",
    "def preprocess_image(file_path):\n",
    "    test_images = tf.data.Dataset.list_files(file_path, shuffle=False)\n",
    "    test_images = test_images.map(load_image)\n",
    "    test_images = test_images.map(lambda x: tf.image.resize(x, (120,120)))\n",
    "    test_images = test_images.map(lambda x: x/255)\n",
    "\n",
    "    image_generator = test_images.batch(1).as_numpy_iterator()\n",
    "    return image_generator.next()\n",
    "\n",
    "\n",
    "def classifiy(test_image_path):\n",
    "    plot_image = preprocess_image(test_image_path)\n",
    "    yhat = classifier.predict(plot_image)\n",
    "    fig, ax = plt.subplots(figsize=(5,5))\n",
    "    \n",
    "    sample_image = np.squeeze(plot_image)\n",
    "    sample_coords = yhat[1]\n",
    "\n",
    "    cv2.rectangle(sample_image, \n",
    "                tuple(np.multiply(sample_coords[0][:2], [120,120]).astype(int)),\n",
    "                tuple(np.multiply(sample_coords[0][2:], [120,120]).astype(int)), \n",
    "                        (255,0,0), 2)\n",
    "        \n",
    "    ax.set_title(objects[np.argmax(yhat[0])])\n",
    "    ax.imshow(sample_image)\n",
    "    return fig, yhat\n",
    "\n",
    "\n",
    "\n",
    "root = Tk()\n",
    "root.title('rbna y3deha 3la 5er')\n",
    "root.geometry(\"400x400\")\n",
    "\n",
    "\n",
    "def callback():\n",
    "    name= fd.askopenfilename() \n",
    "    return name\n",
    "    \n",
    "def button_function():\n",
    "    f1 , yhat= classifiy(callback())\n",
    "    chart_type = FigureCanvasTkAgg(f1, root)\n",
    "    chart_type.get_tk_widget().pack()\n",
    "\n",
    "errmsg = 'Error!'\n",
    "\n",
    "tk.Button(text='Click to select an Image', \n",
    "       command=button_function).pack(fill=tk.X) \n",
    "\n",
    "\n",
    "root.mainloop()"
   ]
  }
 ],
 "metadata": {
  "kernelspec": {
   "display_name": "Python 3",
   "language": "python",
   "name": "python3"
  },
  "language_info": {
   "codemirror_mode": {
    "name": "ipython",
    "version": 3
   },
   "file_extension": ".py",
   "mimetype": "text/x-python",
   "name": "python",
   "nbconvert_exporter": "python",
   "pygments_lexer": "ipython3",
   "version": "3.10.4 (main, Nov 29 2022, 20:00:25) [GCC 9.4.0]"
  },
  "orig_nbformat": 4,
  "vscode": {
   "interpreter": {
    "hash": "3ad933181bd8a04b432d3370b9dc3b0662ad032c4dfaa4e4f1596c548f763858"
   }
  }
 },
 "nbformat": 4,
 "nbformat_minor": 2
}
